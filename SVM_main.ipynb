{
 "cells": [
  {
   "cell_type": "code",
   "execution_count": 1,
   "metadata": {},
   "outputs": [
    {
     "name": "stderr",
     "output_type": "stream",
     "text": [
      "C:\\Anaconda3\\envs\\py36\\lib\\site-packages\\h5py\\__init__.py:36: FutureWarning: Conversion of the second argument of issubdtype from `float` to `np.floating` is deprecated. In future, it will be treated as `np.float64 == np.dtype(float).type`.\n",
      "  from ._conv import register_converters as _register_converters\n",
      "Using TensorFlow backend.\n"
     ]
    }
   ],
   "source": [
    "%matplotlib inline\n",
    "import data_utils as du\n",
    "import learning_utils as lu"
   ]
  },
  {
   "cell_type": "code",
   "execution_count": 2,
   "metadata": {},
   "outputs": [
    {
     "name": "stdout",
     "output_type": "stream",
     "text": [
      "Imported data (4363, 264) and labels (4363, 1).\n"
     ]
    }
   ],
   "source": [
    "data_file = 'kaggle_data/train_data.csv'\n",
    "labels_file = 'kaggle_data/train_labels.csv'\n",
    "\n",
    "data, labels = du.Import_Data(data_file, labels_file)"
   ]
  },
  {
   "cell_type": "code",
   "execution_count": 3,
   "metadata": {},
   "outputs": [
    {
     "name": "stdout",
     "output_type": "stream",
     "text": [
      "Zero variance features removed from data. Input shape: (4363, 264). Output shape: (4363, 260).\n"
     ]
    }
   ],
   "source": [
    "clean_data = du.Remove_Zero_Variance(data)"
   ]
  },
  {
   "cell_type": "code",
   "execution_count": 4,
   "metadata": {},
   "outputs": [],
   "source": [
    "#features = du.Select_Features_From_Model(clean_data, labels)\n",
    "features = clean_data"
   ]
  },
  {
   "cell_type": "code",
   "execution_count": 5,
   "metadata": {},
   "outputs": [
    {
     "name": "stdout",
     "output_type": "stream",
     "text": [
      "Data successfully shuffled\n"
     ]
    }
   ],
   "source": [
    "#normalized_features = du.Normalize(features, 'min-max')\n",
    "normalized_features = du.Standardize(features)\n",
    "shuffled_features, shuffled_labels = du.Shuffle(normalized_features, labels)"
   ]
  },
  {
   "cell_type": "code",
   "execution_count": 6,
   "metadata": {},
   "outputs": [
    {
     "name": "stderr",
     "output_type": "stream",
     "text": [
      "C:\\Anaconda3\\envs\\py36\\lib\\site-packages\\sklearn\\utils\\validation.py:752: DataConversionWarning: A column-vector y was passed when a 1d array was expected. Please change the shape of y to (n_samples, ), for example using ravel().\n",
      "  y = column_or_1d(y, warn=True)\n"
     ]
    },
    {
     "name": "stdout",
     "output_type": "stream",
     "text": [
      "Resampling complete. Sample amount changed from 4363 to 4270\n"
     ]
    }
   ],
   "source": [
    "resampled_features, resampled_labels = du.Resample(shuffled_features, shuffled_labels, 'TomekLinks')"
   ]
  },
  {
   "cell_type": "code",
   "execution_count": 7,
   "metadata": {},
   "outputs": [
    {
     "name": "stdout",
     "output_type": "stream",
     "text": [
      "Data successfully split. Test data ratio = 0.3\n"
     ]
    }
   ],
   "source": [
    "train_features, test_features, train_labels, test_labels = du.Split_Data(resampled_features, resampled_labels)"
   ]
  },
  {
   "cell_type": "code",
   "execution_count": 8,
   "metadata": {},
   "outputs": [
    {
     "name": "stdout",
     "output_type": "stream",
     "text": [
      "Fitting 5 folds for each of 3 candidates, totalling 15 fits\n"
     ]
    },
    {
     "name": "stderr",
     "output_type": "stream",
     "text": [
      "[Parallel(n_jobs=1)]: Using backend SequentialBackend with 1 concurrent workers.\n",
      "[Parallel(n_jobs=1)]: Done  15 out of  15 | elapsed:   19.7s finished\n"
     ]
    },
    {
     "name": "stdout",
     "output_type": "stream",
     "text": [
      "Best score: 0.6446972231515558, using parameters: {'C': 0.01}\n"
     ]
    }
   ],
   "source": [
    "model_svm = lu.Learn_SVM(train_features, train_labels)"
   ]
  },
  {
   "cell_type": "code",
   "execution_count": 9,
   "metadata": {},
   "outputs": [],
   "source": [
    "predictions = lu.Predict(model_svm, test_features)\n",
    "#print(predictions)"
   ]
  },
  {
   "cell_type": "code",
   "execution_count": 10,
   "metadata": {},
   "outputs": [
    {
     "name": "stdout",
     "output_type": "stream",
     "text": [
      "Accuracy: 0.6619828259172521\n"
     ]
    }
   ],
   "source": [
    "accuracy = lu.Accuracy_Score(test_labels, predictions)"
   ]
  },
  {
   "cell_type": "code",
   "execution_count": 11,
   "metadata": {},
   "outputs": [],
   "source": [
    "#model_mlp = lu.Learn_Multilayer_Perceptron(train_features, train_labels, 0.0001)\n",
    "#mlp_score = lu.Evaluate_NN_Performance(model_mlp, test_features, test_labels)"
   ]
  },
  {
   "cell_type": "code",
   "execution_count": 12,
   "metadata": {},
   "outputs": [
    {
     "name": "stdout",
     "output_type": "stream",
     "text": [
      "[[563  34   6   4   0   6   1   3   1   1]\n",
      " [ 56 112  14   3   3   4   0   1   1   0]\n",
      " [ 15   5  77   1   2   2   0   0   1   0]\n",
      " [ 24  12   2  38   1   5   0   0   0   1]\n",
      " [ 21   8   3   3  17   2   0   0   3   1]\n",
      " [ 33   8  14   1   1  20   1   1   0   0]\n",
      " [ 17   3   2   2   5   1   0   2   1   1]\n",
      " [ 45   0   0   3   1   2   0  13   0   0]\n",
      " [  5   3   4   1   1   3   0   1   8   0]\n",
      " [ 15   1   0   3   0   1   0   1   0   0]]\n"
     ]
    },
    {
     "data": {
      "image/png": "[encoded data removed]",
      "text/plain": [
       "<matplotlib.figure.Figure at 0x205bdb10eb8>"
      ]
     },
     "metadata": {},
     "output_type": "display_data"
    }
   ],
   "source": [
    "import visu_utils as vu\n",
    "from sklearn.metrics import confusion_matrix\n",
    "mat = confusion_matrix(test_labels,predictions)\n",
    "vu.plot_confusion_mat(mat, [12,7])\n",
    "print(mat)"
   ]
  },
  {
   "cell_type": "markdown",
   "metadata": {},
   "source": [
    "## Predict labels for submission\n",
    "\n",
    "We have established that C=0.01 is the best parameter. Now we can retrain the model with all training data, and then predict labels from test data that we submit to Kaggle."
   ]
  },
  {
   "cell_type": "code",
   "execution_count": null,
   "metadata": {},
   "outputs": [],
   "source": [
    "model_svm = lu.Learn_SVM(resampled_features, resampled_labels)"
   ]
  },
  {
   "cell_type": "code",
   "execution_count": 19,
   "metadata": {},
   "outputs": [
    {
     "name": "stdout",
     "output_type": "stream",
     "text": [
      "Zero variance features removed from data. Input shape: (4363, 264). Output shape: (4363, 260).\n",
      "(4363,)\n"
     ]
    }
   ],
   "source": [
    "import pandas as pd\n",
    "import numpy as np\n",
    "validation_data_file = 'kaggle_data/test_data.csv'\n",
    "validation_data = pd.read_csv(data_file,header=None)\n",
    "validation_data = du.Remove_Zero_Variance(validation_data)\n",
    "validation_data = du.Standardize(validation_data)\n",
    "\n",
    "\n",
    "predictions_to_submit = lu.Predict(model_svm,validation_data)\n",
    "print(predictions_to_submit.shape)\n",
    "np.savetxt(\"SVM_predictions_to_submit.csv\", predictions_to_submit, delimiter=\",\")"
   ]
  },
  {
   "cell_type": "code",
   "execution_count": null,
   "metadata": {},
   "outputs": [],
   "source": []
  }
 ],
 "metadata": {
  "kernelspec": {
   "display_name": "Python 3",
   "language": "python",
   "name": "python3"
  },
  "language_info": {
   "codemirror_mode": {
    "name": "ipython",
    "version": 3
   },
   "file_extension": ".py",
   "mimetype": "text/x-python",
   "name": "python",
   "nbconvert_exporter": "python",
   "pygments_lexer": "ipython3",
   "version": "3.6.4"
  }
 },
 "nbformat": 4,
 "nbformat_minor": 2
}

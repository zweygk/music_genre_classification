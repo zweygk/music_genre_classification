{
 "cells": [
  {
   "cell_type": "code",
   "execution_count": 2,
   "metadata": {},
   "outputs": [],
   "source": [
    "from sklearn import datasets\n",
    "from sklearn.multiclass import OneVsRestClassifier\n",
    "from sklearn.svm import SVC\n",
    "from sklearn.metrics import accuracy_score\n",
    "from sklearn.model_selection import GridSearchCV\n",
    "from sklearn.metrics import make_scorer\n",
    "from sklearn.ensemble import RandomForestClassifier"
   ]
  },
  {
   "cell_type": "code",
   "execution_count": 5,
   "metadata": {},
   "outputs": [],
   "source": [
    "def Learn_Multiclass_SVM(data,labels):\n",
    "    model = OneVsRestClassifier(SVC())\n",
    "    \n",
    "    parameters = {\n",
    "    \"estimator__C\": [2**6,2**7,2**8,2**9,2**10,2**11,2**12.2**14],\n",
    "    \"estimator__kernel\": [\"rbf\"],\n",
    "    \"estimator__gamma\":[2**0,2**1,2**2,2**3,2**4,2**5,2**6,2**7,2**8,2**9,2**10]\n",
    "    }\n",
    "    \n",
    "    accuracy = make_scorer(accuracy_score)\n",
    "    \n",
    "    model_tuned = GridSearchCV(model, param_grid=parameters, scoring=accuracy, cv=6)\n",
    "    model_tuned.fit(data, labels)\n",
    "    \n",
    "    best_score = model_tuned.best_score_\n",
    "    best_params = model_tuned.best_params_\n",
    "    \n",
    "    debug_msg = 'Best score: '+str(best_score)+', using parameters: '+str(best_params)\n",
    "    print(debug_msg)\n",
    "    return model_tuned\n",
    "\n",
    "def Learn_Random_Forest(data, labels):\n",
    "    model = OneVsRestClassifier(RandomForestClassifier())\n",
    "    parameters = {'estimator__max_depth': [7,8,10,11,12,13]}\n",
    "    model_tuned = GridSearchCV(model, parameters)\n",
    "    model_tuned.fit(data, labels)\n",
    "    \n",
    "    best_score = model_tuned.best_score_\n",
    "    best_params = model_tuned.best_params_\n",
    "    \n",
    "    debug_msg = 'Best score: '+str(best_score)+', using parameters: '+str(best_params)\n",
    "    print(debug_msg)\n",
    "    return model_tuned\n",
    "\n",
    "def Predict(model, test_data):\n",
    "    predictions = model.predict(test_data)\n",
    "    return predictions\n",
    "\n",
    "def Accuracy_Score(true, predictions):\n",
    "    score = accuracy_score(true, predictions)\n",
    "    debug_msg = 'Accuracy: '+str(score)\n",
    "    print(debug_msg)\n",
    "    return score"
   ]
  },
  {
   "cell_type": "code",
   "execution_count": null,
   "metadata": {},
   "outputs": [],
   "source": [
    "from keras.models import Sequential, load_model\n",
    "from keras.layers import Dense, Dropout, Activation\n",
    "from keras.optimizers import Adam\n",
    "from keras.utils import to_categorical\n",
    "from keras.callbacks import ModelCheckpoint\n",
    "from keras import regularizers"
   ]
  },
  {
   "cell_type": "code",
   "execution_count": null,
   "metadata": {},
   "outputs": [],
   "source": [
    "def Learn_Multilayer_Perceptron(data, labels, learning_rate=0.0001,validation_split=0.33):\n",
    "    labels = labels-1\n",
    "    categorical_labels = to_categorical(labels,num_classes=10)\n",
    "    model = Sequential()\n",
    "    model.add(Dense(64,activation='relu',\n",
    "                    kernel_regularizer=regularizers.l2(0.0001),\n",
    "                    input_dim=data.shape[1]))\n",
    "    model.add(Dropout(0.5))\n",
    "    model.add(Dense(64,activation='relu',\n",
    "                    kernel_regularizer=regularizers.l2(0.0001)))\n",
    "    model.add(Dropout(0.5))\n",
    "    model.add(Dense(10, activation='softmax'))\n",
    "    \n",
    "    adam = Adam(lr=learning_rate)\n",
    "    model.compile(loss='categorical_crossentropy',optimizer=adam,metrics=['accuracy'])\n",
    "    \n",
    "    filepath = 'best_perceptron_model.h5'\n",
    "    checkpoint = ModelCheckpoint(filepath, monitor='val_acc', verbose=1, save_best_only=True, mode='max')\n",
    "    callbacks_list = [checkpoint]\n",
    "    \n",
    "    model.fit(data, categorical_labels,validation_split=0.33,batch_size=512, epochs=50000, callbacks=callbacks_list)\n",
    "    return model\n",
    "    \n",
    "def Evaluate_NN_Performance(model_name, test_data, test_labels):\n",
    "    model = load_model(model_name)\n",
    "    test_labels = test_labels - 1\n",
    "    categorical_labels = to_categorical(test_labels, num_classes=10)\n",
    "    score = model.evaluate(test_data, categorical_labels, batch_size=512)\n",
    "    debug_msg = 'Accuracy score of Neural Network: ' + str(score)\n",
    "    print(debug_msg)\n",
    "    return score"
   ]
  }
 ],
 "metadata": {
  "kernelspec": {
   "display_name": "Python 3",
   "language": "python",
   "name": "python3"
  },
  "language_info": {
   "codemirror_mode": {
    "name": "ipython",
    "version": 3
   },
   "file_extension": ".py",
   "mimetype": "text/x-python",
   "name": "python",
   "nbconvert_exporter": "python",
   "pygments_lexer": "ipython3",
   "version": "3.6.4"
  }
 },
 "nbformat": 4,
 "nbformat_minor": 2
}

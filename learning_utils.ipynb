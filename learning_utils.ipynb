{
 "cells": [
  {
   "cell_type": "code",
   "execution_count": 2,
   "metadata": {},
   "outputs": [],
   "source": [
    "from sklearn import datasets\n",
    "from sklearn.multiclass import OneVsRestClassifier\n",
    "from sklearn.svm import LinearSVC\n",
    "from sklearn.svm import SVC\n"
   ]
  },
  {
   "cell_type": "code",
   "execution_count": null,
   "metadata": {},
   "outputs": [],
   "source": [
    "def Learn_Multiclass_SVM_Model(data,labels):\n",
    "    model_init = OneVsRestClassifier(SVC(kernel=\"poly\"))\n",
    "    \n",
    "    C_exps = [-2,-1,0,1,2,3,4,5,6,7]\n",
    "    gamma_exps = [-7,-6,-5,-4,-3,-2]\n",
    "    C = [2**exp for exp in C_exps]\n",
    "    gamma = [2**exp for exp in gamma_exps]\n",
    "    \n",
    "    i_C = 0\n",
    "    i_g = 0\n",
    "    for C_i in C:\n",
    "        i_g = 0\n",
    "        for gamma_i in gamma:\n",
    "            # shrinking? probability? tol?\n",
    "            clf = SVC(C=C_i, kernel='rbf', degree=3, gamma=gamma_i, shrinking=True, probability=False, tol=0.001, cache_size=200, verbose=False)\n",
    "            scores = cross_val_score(clf, X_train, X_test, cv=5)\n",
    "            print(\"For C=2^%d, gamma=2^%d ; Accuracy: %0.2f (+/- %0.2f)\" % (C_exps[i_C],gamma_exps[i_g],scores.mean(), scores.std() * 2))\n",
    "            i_g +=1\n",
    "        i_C += 1\n",
    "    \n",
    "    return model\n",
    "\n",
    "def Predict(model, test_data):\n",
    "    predictions = model.predict(test_data)\n",
    "    return predictions\n",
    "\n"
   ]
  }
 ],
 "metadata": {
  "kernelspec": {
   "display_name": "Python 3",
   "language": "python",
   "name": "python3"
  },
  "language_info": {
   "codemirror_mode": {
    "name": "ipython",
    "version": 3
   },
   "file_extension": ".py",
   "mimetype": "text/x-python",
   "name": "python",
   "nbconvert_exporter": "python",
   "pygments_lexer": "ipython3",
   "version": "3.6.4"
  }
 },
 "nbformat": 4,
 "nbformat_minor": 2
}
